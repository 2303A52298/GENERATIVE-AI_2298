{
  "nbformat": 4,
  "nbformat_minor": 0,
  "metadata": {
    "colab": {
      "provenance": [],
      "authorship_tag": "ABX9TyOkYzICNkAQQqmEobWWtLQ+",
      "include_colab_link": true
    },
    "kernelspec": {
      "name": "python3",
      "display_name": "Python 3"
    },
    "language_info": {
      "name": "python"
    }
  },
  "cells": [
    {
      "cell_type": "markdown",
      "metadata": {
        "id": "view-in-github",
        "colab_type": "text"
      },
      "source": [
        "<a href=\"https://colab.research.google.com/github/2303A52298/GENERATIVE-AI_2298/blob/main/GENAI_ASSIGNMENT_03.ipynb\" target=\"_parent\"><img src=\"https://colab.research.google.com/assets/colab-badge.svg\" alt=\"Open In Colab\"/></a>"
      ]
    },
    {
      "cell_type": "markdown",
      "source": [
        "Question 1:(1 ponto) Write Python code without using any libraries to find the value of x at which the\n",
        " function f(x) shown in equation (1) has minimum value. Consider Gradient Descent Algorithm.\n",
        " f(x) = 5x4 +3x2 +10\n",
        "\n"
      ],
      "metadata": {
        "id": "kDI1rMQyRFQw"
      }
    },
    {
      "cell_type": "code",
      "execution_count": null,
      "metadata": {
        "id": "h0z3Z0w0PccY",
        "colab": {
          "base_uri": "https://localhost:8080/"
        },
        "outputId": "8d7d2168-4399-46f3-afe1-bf94dce0bff9"
      },
      "outputs": [
        {
          "output_type": "stream",
          "name": "stdout",
          "text": [
            "The minimum value of f(x) occurs at approximately x = 5.963540395046457e-28\n",
            "The minimum value of f(x) is approximately 10.0\n"
          ]
        }
      ],
      "source": [
        "def f(x):\n",
        "  return 5 * x**4 + 3 * x**2 + 10\n",
        "def df(x):\n",
        "  return 20 * x**3 + 6 * x\n",
        "learning_rate = 0.01\n",
        "iterations = 1000\n",
        "x = 1\n",
        "for _ in range(iterations):\n",
        "  gradient = df(x)\n",
        "  x = x - learning_rate * gradient\n",
        "print(f\"The minimum value of f(x) occurs at approximately x = {x}\")\n",
        "print(f\"The minimum value of f(x) is approximately {f(x)}\")"
      ]
    },
    {
      "cell_type": "markdown",
      "source": [
        "Question 2:(1 ponto) Write Python code without using any libraries to find the value of x and y at which the\n",
        " function g(x,y) shown in equation (2) has minimum value. Consider Gradient Descent Algorithm.\n",
        " f(x) = 3x2 +5e−y +10"
      ],
      "metadata": {
        "id": "BKmNon3MSOIU"
      }
    },
    {
      "cell_type": "code",
      "source": [
        "import math\n",
        "\n",
        "def g(x, y):\n",
        "  return 3 * x**2 + 5 * math.exp(-y) + 10\n",
        "\n",
        "def dg_dx(x):\n",
        "  return 6 * x\n",
        "\n",
        "def dg_dy(y):\n",
        "  return -5 * math.exp(-y)\n",
        "\n",
        "learning_rate = 0.01\n",
        "iterations = 1000\n",
        "x = 1\n",
        "y = 1\n",
        "\n",
        "for _ in range(iterations):\n",
        "  gradient_x = dg_dx(x)\n",
        "  gradient_y = dg_dy(y)\n",
        "  x = x - learning_rate * gradient_x\n",
        "  y = y - learning_rate * gradient_y\n",
        "\n",
        "print(f\"The minimum value of g(x,y) occurs at approximately x = {x}, y = {y}\")\n",
        "print(f\"The minimum value of g(x,y) is approximately {g(x,y)}\")"
      ],
      "metadata": {
        "colab": {
          "base_uri": "https://localhost:8080/"
        },
        "id": "o5tzjE55SXLH",
        "outputId": "a2c1ce3d-8339-48b3-a7ec-07ca12c8a08e"
      },
      "execution_count": null,
      "outputs": [
        {
          "output_type": "stream",
          "name": "stdout",
          "text": [
            "The minimum value of g(x,y) occurs at approximately x = 1.3423123924933694e-27, y = 3.9663707936306642\n",
            "The minimum value of g(x,y) is approximately 10.094710265808493\n"
          ]
        }
      ]
    },
    {
      "cell_type": "markdown",
      "source": [
        "Question 3:(1 ponto) Write Python code without using any libraries to find the value of x at which the\n",
        " sigmoid function z(x) shown in equation (3) has minimum value. Consider Gradient Descent\n",
        " Algorithm.\n",
        " z(x) = 1\n",
        " (3)\n",
        " 1 +e−x"
      ],
      "metadata": {
        "id": "sj8PdoofSvAi"
      }
    },
    {
      "cell_type": "code",
      "source": [
        "import math\n",
        "\n",
        "def z(x):\n",
        "  return 1 / (1 + math.exp(-x))\n",
        "\n",
        "def dz(x):\n",
        "  return math.exp(-x) / (1 + math.exp(-x))**2\n",
        "\n",
        "learning_rate = 0.01\n",
        "iterations = 1000\n",
        "x = 1\n",
        "for _ in range(iterations):\n",
        "  gradient = dz(x)\n",
        "  x = x - learning_rate * gradient\n",
        "\n",
        "print(f\"The minimum value of z(x) occurs at approximately x = {x}\")\n",
        "print(f\"The minimum value of z(x) is approximately {z(x)}\")"
      ],
      "metadata": {
        "colab": {
          "base_uri": "https://localhost:8080/"
        },
        "id": "qOsQLaSbVEE6",
        "outputId": "f8ddb349-1074-4bfb-fdcc-0f1a31741726"
      },
      "execution_count": 5,
      "outputs": [
        {
          "output_type": "stream",
          "name": "stdout",
          "text": [
            "The minimum value of z(x) occurs at approximately x = -1.2406923169023605\n",
            "The minimum value of z(x) is approximately 0.22431550094406208\n"
          ]
        }
      ]
    },
    {
      "cell_type": "markdown",
      "source": [
        "Question 4: (1 ponto) Write Python code without using any libraries to find the value of optimal values of\n",
        " model parameters M and C such that the model’s Square Error Value shown in equation 4 will\n",
        " be minimum. It means model gives output close to expected output as shown in Figure 1"
      ],
      "metadata": {
        "id": "agenVS5gWXM9"
      }
    },
    {
      "cell_type": "code",
      "source": [
        "def predict(M, C, x):\n",
        "  return M * x + C\n",
        "\n",
        "def square_error(expected_output, predicted_output):\n",
        "  return (expected_output - predicted_output)**2\n",
        "\n",
        "def gradient_descent(data, learning_rate, iterations):\n",
        "  M, C = 0, 0  # Initial guesses for M and C\n",
        "  for _ in range(iterations):\n",
        "    for x, expected_output in data:\n",
        "      predicted_output = predict(M, C, x)\n",
        "      error = square_error(expected_output, predicted_output)\n",
        "\n",
        "      dM = -2 * x * (expected_output - predicted_output)\n",
        "      dC = -2 * (expected_output - predicted_output)\n",
        "\n",
        "      M = M - learning_rate * dM\n",
        "      C = C - learning_rate * dC\n",
        "\n",
        "  return M, C\n",
        "\n",
        "data = [(1, 2), (2, 3), (3, 5)]  # Sample data\n",
        "learning_rate = 0.01\n",
        "iterations = 1000\n",
        "M_optimal, C_optimal = gradient_descent(data, learning_rate, iterations)\n",
        "print(\"Optimal values of M and C:\", M_optimal, C_optimal)"
      ],
      "metadata": {
        "colab": {
          "base_uri": "https://localhost:8080/"
        },
        "id": "5cuajl6PWX0b",
        "outputId": "2cd1c4d1-e651-4fec-c329-41cc8b876f87"
      },
      "execution_count": 8,
      "outputs": [
        {
          "output_type": "stream",
          "name": "stdout",
          "text": [
            "Optimal values of M and C: 1.5175330644236207 0.30651029271275604\n"
          ]
        }
      ]
    }
  ]
}